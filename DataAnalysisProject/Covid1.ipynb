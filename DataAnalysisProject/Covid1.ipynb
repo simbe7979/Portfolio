{
 "cells": [
  {
   "cell_type": "code",
   "execution_count": 28,
   "id": "558d441e-b5be-441c-8abd-b2b2668f7a48",
   "metadata": {},
   "outputs": [],
   "source": [
    "# pandas 라이브러리 호출\n",
    "import pandas as pd"
   ]
  },
  {
   "cell_type": "code",
   "execution_count": 29,
   "id": "1440b659-89f5-49fd-9f85-caf61da67cea",
   "metadata": {},
   "outputs": [],
   "source": [
    "# 코로나 데이터(csv)를 pandas 라이브러리로 읽어오기\n",
    "raw_df = pd.read_csv(\"C:\\data\\owid-covid-data.csv\")"
   ]
  },
  {
   "cell_type": "code",
   "execution_count": 30,
   "id": "c6c8183b-5fe9-479c-a831-1ec3ffd6cd67",
   "metadata": {},
   "outputs": [
    {
     "data": {
      "text/html": [
       "<div>\n",
       "<style scoped>\n",
       "    .dataframe tbody tr th:only-of-type {\n",
       "        vertical-align: middle;\n",
       "    }\n",
       "\n",
       "    .dataframe tbody tr th {\n",
       "        vertical-align: top;\n",
       "    }\n",
       "\n",
       "    .dataframe thead th {\n",
       "        text-align: right;\n",
       "    }\n",
       "</style>\n",
       "<table border=\"1\" class=\"dataframe\">\n",
       "  <thead>\n",
       "    <tr style=\"text-align: right;\">\n",
       "      <th></th>\n",
       "      <th>iso_code</th>\n",
       "      <th>location</th>\n",
       "      <th>date</th>\n",
       "      <th>total_cases</th>\n",
       "      <th>population</th>\n",
       "    </tr>\n",
       "  </thead>\n",
       "  <tbody>\n",
       "    <tr>\n",
       "      <th>0</th>\n",
       "      <td>AFG</td>\n",
       "      <td>Afghanistan</td>\n",
       "      <td>2020-02-24</td>\n",
       "      <td>5.0</td>\n",
       "      <td>39835428.0</td>\n",
       "    </tr>\n",
       "    <tr>\n",
       "      <th>1</th>\n",
       "      <td>AFG</td>\n",
       "      <td>Afghanistan</td>\n",
       "      <td>2020-02-25</td>\n",
       "      <td>5.0</td>\n",
       "      <td>39835428.0</td>\n",
       "    </tr>\n",
       "    <tr>\n",
       "      <th>2</th>\n",
       "      <td>AFG</td>\n",
       "      <td>Afghanistan</td>\n",
       "      <td>2020-02-26</td>\n",
       "      <td>5.0</td>\n",
       "      <td>39835428.0</td>\n",
       "    </tr>\n",
       "    <tr>\n",
       "      <th>3</th>\n",
       "      <td>AFG</td>\n",
       "      <td>Afghanistan</td>\n",
       "      <td>2020-02-27</td>\n",
       "      <td>5.0</td>\n",
       "      <td>39835428.0</td>\n",
       "    </tr>\n",
       "    <tr>\n",
       "      <th>4</th>\n",
       "      <td>AFG</td>\n",
       "      <td>Afghanistan</td>\n",
       "      <td>2020-02-28</td>\n",
       "      <td>5.0</td>\n",
       "      <td>39835428.0</td>\n",
       "    </tr>\n",
       "  </tbody>\n",
       "</table>\n",
       "</div>"
      ],
      "text/plain": [
       "  iso_code     location        date  total_cases  population\n",
       "0      AFG  Afghanistan  2020-02-24          5.0  39835428.0\n",
       "1      AFG  Afghanistan  2020-02-25          5.0  39835428.0\n",
       "2      AFG  Afghanistan  2020-02-26          5.0  39835428.0\n",
       "3      AFG  Afghanistan  2020-02-27          5.0  39835428.0\n",
       "4      AFG  Afghanistan  2020-02-28          5.0  39835428.0"
      ]
     },
     "execution_count": 30,
     "metadata": {},
     "output_type": "execute_result"
    }
   ],
   "source": [
    "# 필요컬럼(iso 코드, 국가, 날짜, 확진자수, 인구수) 선택\n",
    "selected_columns = [\"iso_code\", \"location\", \"date\", \"total_cases\", \"population\"]\n",
    "# 코로나 데이터에서 필요컬럼만 추출\n",
    "revised_df = raw_df[selected_columns]\n",
    "revised_df.head()"
   ]
  },
  {
   "cell_type": "code",
   "execution_count": 31,
   "id": "8e291a34-75ba-4d04-80f3-2ffde75085cf",
   "metadata": {},
   "outputs": [
    {
     "data": {
      "text/plain": [
       "0         Afghanistan\n",
       "1         Afghanistan\n",
       "2         Afghanistan\n",
       "3         Afghanistan\n",
       "4         Afghanistan\n",
       "             ...     \n",
       "192296       Zimbabwe\n",
       "192297       Zimbabwe\n",
       "192298       Zimbabwe\n",
       "192299       Zimbabwe\n",
       "192300       Zimbabwe\n",
       "Name: location, Length: 192301, dtype: object"
      ]
     },
     "execution_count": 31,
     "metadata": {},
     "output_type": "execute_result"
    }
   ],
   "source": [
    "# 코로나 데이터에서 국가 컬럼만 추출\n",
    "locations = revised_df[\"location\"]\n",
    "locations"
   ]
  },
  {
   "cell_type": "code",
   "execution_count": 32,
   "id": "1af8a454-d2e2-4900-bb01-ea31b42e042c",
   "metadata": {},
   "outputs": [
    {
     "data": {
      "text/plain": [
       "array(['Afghanistan', 'Africa', 'Albania', 'Algeria', 'Andorra', 'Angola',\n",
       "       'Anguilla', 'Antigua and Barbuda', 'Argentina', 'Armenia', 'Aruba',\n",
       "       'Asia', 'Australia', 'Austria', 'Azerbaijan', 'Bahamas', 'Bahrain',\n",
       "       'Bangladesh', 'Barbados', 'Belarus', 'Belgium', 'Belize', 'Benin',\n",
       "       'Bermuda', 'Bhutan', 'Bolivia', 'Bonaire Sint Eustatius and Saba',\n",
       "       'Bosnia and Herzegovina', 'Botswana', 'Brazil',\n",
       "       'British Virgin Islands', 'Brunei', 'Bulgaria', 'Burkina Faso',\n",
       "       'Burundi', 'Cambodia', 'Cameroon', 'Canada', 'Cape Verde',\n",
       "       'Cayman Islands', 'Central African Republic', 'Chad', 'Chile',\n",
       "       'China', 'Colombia', 'Comoros', 'Congo', 'Cook Islands',\n",
       "       'Costa Rica', \"Cote d'Ivoire\", 'Croatia', 'Cuba', 'Curacao',\n",
       "       'Cyprus', 'Czechia', 'Democratic Republic of Congo', 'Denmark',\n",
       "       'Djibouti', 'Dominica', 'Dominican Republic', 'Ecuador', 'Egypt',\n",
       "       'El Salvador', 'Equatorial Guinea', 'Eritrea', 'Estonia',\n",
       "       'Eswatini', 'Ethiopia', 'Europe', 'European Union',\n",
       "       'Faeroe Islands', 'Falkland Islands', 'Fiji', 'Finland', 'France',\n",
       "       'French Polynesia', 'Gabon', 'Gambia', 'Georgia', 'Germany',\n",
       "       'Ghana', 'Gibraltar', 'Greece', 'Greenland', 'Grenada', 'Guam',\n",
       "       'Guatemala', 'Guernsey', 'Guinea', 'Guinea-Bissau', 'Guyana',\n",
       "       'Haiti', 'High income', 'Honduras', 'Hong Kong', 'Hungary',\n",
       "       'Iceland', 'India', 'Indonesia', 'International', 'Iran', 'Iraq',\n",
       "       'Ireland', 'Isle of Man', 'Israel', 'Italy', 'Jamaica', 'Japan',\n",
       "       'Jersey', 'Jordan', 'Kazakhstan', 'Kenya', 'Kiribati', 'Kosovo',\n",
       "       'Kuwait', 'Kyrgyzstan', 'Laos', 'Latvia', 'Lebanon', 'Lesotho',\n",
       "       'Liberia', 'Libya', 'Liechtenstein', 'Lithuania', 'Low income',\n",
       "       'Lower middle income', 'Luxembourg', 'Macao', 'Madagascar',\n",
       "       'Malawi', 'Malaysia', 'Maldives', 'Mali', 'Malta',\n",
       "       'Marshall Islands', 'Mauritania', 'Mauritius', 'Mexico',\n",
       "       'Micronesia (country)', 'Moldova', 'Monaco', 'Mongolia',\n",
       "       'Montenegro', 'Montserrat', 'Morocco', 'Mozambique', 'Myanmar',\n",
       "       'Namibia', 'Nauru', 'Nepal', 'Netherlands', 'New Caledonia',\n",
       "       'New Zealand', 'Nicaragua', 'Niger', 'Nigeria', 'Niue',\n",
       "       'North America', 'North Korea', 'North Macedonia',\n",
       "       'Northern Cyprus', 'Northern Mariana Islands', 'Norway', 'Oceania',\n",
       "       'Oman', 'Pakistan', 'Palau', 'Palestine', 'Panama',\n",
       "       'Papua New Guinea', 'Paraguay', 'Peru', 'Philippines', 'Pitcairn',\n",
       "       'Poland', 'Portugal', 'Puerto Rico', 'Qatar', 'Romania', 'Russia',\n",
       "       'Rwanda', 'Saint Helena', 'Saint Kitts and Nevis', 'Saint Lucia',\n",
       "       'Saint Pierre and Miquelon', 'Saint Vincent and the Grenadines',\n",
       "       'Samoa', 'San Marino', 'Sao Tome and Principe', 'Saudi Arabia',\n",
       "       'Senegal', 'Serbia', 'Seychelles', 'Sierra Leone', 'Singapore',\n",
       "       'Sint Maarten (Dutch part)', 'Slovakia', 'Slovenia',\n",
       "       'Solomon Islands', 'Somalia', 'South Africa', 'South America',\n",
       "       'South Korea', 'South Sudan', 'Spain', 'Sri Lanka', 'Sudan',\n",
       "       'Suriname', 'Sweden', 'Switzerland', 'Syria', 'Taiwan',\n",
       "       'Tajikistan', 'Tanzania', 'Thailand', 'Timor', 'Togo', 'Tokelau',\n",
       "       'Tonga', 'Trinidad and Tobago', 'Tunisia', 'Turkey',\n",
       "       'Turkmenistan', 'Turks and Caicos Islands', 'Tuvalu', 'Uganda',\n",
       "       'Ukraine', 'United Arab Emirates', 'United Kingdom',\n",
       "       'United States', 'United States Virgin Islands',\n",
       "       'Upper middle income', 'Uruguay', 'Uzbekistan', 'Vanuatu',\n",
       "       'Vatican', 'Venezuela', 'Vietnam', 'Wallis and Futuna',\n",
       "       'Western Sahara', 'World', 'Yemen', 'Zambia', 'Zimbabwe'],\n",
       "      dtype=object)"
      ]
     },
     "execution_count": 32,
     "metadata": {},
     "output_type": "execute_result"
    }
   ],
   "source": [
    "# 국가 확인\n",
    "locations.unique()"
   ]
  },
  {
   "cell_type": "code",
   "execution_count": 33,
   "id": "48e56cfc-2b04-4aba-8c1f-3036d3ab26ea",
   "metadata": {},
   "outputs": [
    {
     "data": {
      "text/html": [
       "<div>\n",
       "<style scoped>\n",
       "    .dataframe tbody tr th:only-of-type {\n",
       "        vertical-align: middle;\n",
       "    }\n",
       "\n",
       "    .dataframe tbody tr th {\n",
       "        vertical-align: top;\n",
       "    }\n",
       "\n",
       "    .dataframe thead th {\n",
       "        text-align: right;\n",
       "    }\n",
       "</style>\n",
       "<table border=\"1\" class=\"dataframe\">\n",
       "  <thead>\n",
       "    <tr style=\"text-align: right;\">\n",
       "      <th></th>\n",
       "      <th>iso_code</th>\n",
       "      <th>location</th>\n",
       "      <th>date</th>\n",
       "      <th>total_cases</th>\n",
       "      <th>population</th>\n",
       "    </tr>\n",
       "  </thead>\n",
       "  <tbody>\n",
       "    <tr>\n",
       "      <th>160818</th>\n",
       "      <td>KOR</td>\n",
       "      <td>South Korea</td>\n",
       "      <td>2020-01-22</td>\n",
       "      <td>1.0</td>\n",
       "      <td>51305184.0</td>\n",
       "    </tr>\n",
       "    <tr>\n",
       "      <th>160819</th>\n",
       "      <td>KOR</td>\n",
       "      <td>South Korea</td>\n",
       "      <td>2020-01-23</td>\n",
       "      <td>1.0</td>\n",
       "      <td>51305184.0</td>\n",
       "    </tr>\n",
       "    <tr>\n",
       "      <th>160820</th>\n",
       "      <td>KOR</td>\n",
       "      <td>South Korea</td>\n",
       "      <td>2020-01-24</td>\n",
       "      <td>2.0</td>\n",
       "      <td>51305184.0</td>\n",
       "    </tr>\n",
       "    <tr>\n",
       "      <th>160821</th>\n",
       "      <td>KOR</td>\n",
       "      <td>South Korea</td>\n",
       "      <td>2020-01-25</td>\n",
       "      <td>2.0</td>\n",
       "      <td>51305184.0</td>\n",
       "    </tr>\n",
       "    <tr>\n",
       "      <th>160822</th>\n",
       "      <td>KOR</td>\n",
       "      <td>South Korea</td>\n",
       "      <td>2020-01-26</td>\n",
       "      <td>3.0</td>\n",
       "      <td>51305184.0</td>\n",
       "    </tr>\n",
       "  </tbody>\n",
       "</table>\n",
       "</div>"
      ],
      "text/plain": [
       "       iso_code     location        date  total_cases  population\n",
       "160818      KOR  South Korea  2020-01-22          1.0  51305184.0\n",
       "160819      KOR  South Korea  2020-01-23          1.0  51305184.0\n",
       "160820      KOR  South Korea  2020-01-24          2.0  51305184.0\n",
       "160821      KOR  South Korea  2020-01-25          2.0  51305184.0\n",
       "160822      KOR  South Korea  2020-01-26          3.0  51305184.0"
      ]
     },
     "execution_count": 33,
     "metadata": {},
     "output_type": "execute_result"
    }
   ],
   "source": [
    "# 코로나 데이터에서 국가가 한국인 행만 추출\n",
    "kor_df = revised_df[revised_df.location == \"South Korea\"]\n",
    "kor_df.head()"
   ]
  },
  {
   "cell_type": "code",
   "execution_count": 34,
   "id": "1e6f1aea-42d3-46cd-8fb7-e459603611d7",
   "metadata": {},
   "outputs": [
    {
     "data": {
      "text/html": [
       "<div>\n",
       "<style scoped>\n",
       "    .dataframe tbody tr th:only-of-type {\n",
       "        vertical-align: middle;\n",
       "    }\n",
       "\n",
       "    .dataframe tbody tr th {\n",
       "        vertical-align: top;\n",
       "    }\n",
       "\n",
       "    .dataframe thead th {\n",
       "        text-align: right;\n",
       "    }\n",
       "</style>\n",
       "<table border=\"1\" class=\"dataframe\">\n",
       "  <thead>\n",
       "    <tr style=\"text-align: right;\">\n",
       "      <th></th>\n",
       "      <th>iso_code</th>\n",
       "      <th>location</th>\n",
       "      <th>total_cases</th>\n",
       "      <th>population</th>\n",
       "    </tr>\n",
       "    <tr>\n",
       "      <th>date</th>\n",
       "      <th></th>\n",
       "      <th></th>\n",
       "      <th></th>\n",
       "      <th></th>\n",
       "    </tr>\n",
       "  </thead>\n",
       "  <tbody>\n",
       "    <tr>\n",
       "      <th>2020-01-22</th>\n",
       "      <td>KOR</td>\n",
       "      <td>South Korea</td>\n",
       "      <td>1.0</td>\n",
       "      <td>51305184.0</td>\n",
       "    </tr>\n",
       "    <tr>\n",
       "      <th>2020-01-23</th>\n",
       "      <td>KOR</td>\n",
       "      <td>South Korea</td>\n",
       "      <td>1.0</td>\n",
       "      <td>51305184.0</td>\n",
       "    </tr>\n",
       "    <tr>\n",
       "      <th>2020-01-24</th>\n",
       "      <td>KOR</td>\n",
       "      <td>South Korea</td>\n",
       "      <td>2.0</td>\n",
       "      <td>51305184.0</td>\n",
       "    </tr>\n",
       "    <tr>\n",
       "      <th>2020-01-25</th>\n",
       "      <td>KOR</td>\n",
       "      <td>South Korea</td>\n",
       "      <td>2.0</td>\n",
       "      <td>51305184.0</td>\n",
       "    </tr>\n",
       "    <tr>\n",
       "      <th>2020-01-26</th>\n",
       "      <td>KOR</td>\n",
       "      <td>South Korea</td>\n",
       "      <td>3.0</td>\n",
       "      <td>51305184.0</td>\n",
       "    </tr>\n",
       "  </tbody>\n",
       "</table>\n",
       "</div>"
      ],
      "text/plain": [
       "           iso_code     location  total_cases  population\n",
       "date                                                     \n",
       "2020-01-22      KOR  South Korea          1.0  51305184.0\n",
       "2020-01-23      KOR  South Korea          1.0  51305184.0\n",
       "2020-01-24      KOR  South Korea          2.0  51305184.0\n",
       "2020-01-25      KOR  South Korea          2.0  51305184.0\n",
       "2020-01-26      KOR  South Korea          3.0  51305184.0"
      ]
     },
     "execution_count": 34,
     "metadata": {},
     "output_type": "execute_result"
    }
   ],
   "source": [
    "# 한국 데이터에서 date 컬럼을 인덱스로 설정\n",
    "kor_date_index_df = kor_df.set_index(\"date\")\n",
    "kor_date_index_df.head()"
   ]
  },
  {
   "cell_type": "code",
   "execution_count": 35,
   "id": "1c1e0eb9-2cf9-4284-903a-ebc720359917",
   "metadata": {},
   "outputs": [
    {
     "data": {
      "text/html": [
       "<div>\n",
       "<style scoped>\n",
       "    .dataframe tbody tr th:only-of-type {\n",
       "        vertical-align: middle;\n",
       "    }\n",
       "\n",
       "    .dataframe tbody tr th {\n",
       "        vertical-align: top;\n",
       "    }\n",
       "\n",
       "    .dataframe thead th {\n",
       "        text-align: right;\n",
       "    }\n",
       "</style>\n",
       "<table border=\"1\" class=\"dataframe\">\n",
       "  <thead>\n",
       "    <tr style=\"text-align: right;\">\n",
       "      <th></th>\n",
       "      <th>iso_code</th>\n",
       "      <th>location</th>\n",
       "      <th>date</th>\n",
       "      <th>total_cases</th>\n",
       "      <th>population</th>\n",
       "    </tr>\n",
       "  </thead>\n",
       "  <tbody>\n",
       "    <tr>\n",
       "      <th>60790</th>\n",
       "      <td>FRA</td>\n",
       "      <td>France</td>\n",
       "      <td>2020-01-24</td>\n",
       "      <td>2.0</td>\n",
       "      <td>67422000.0</td>\n",
       "    </tr>\n",
       "    <tr>\n",
       "      <th>60791</th>\n",
       "      <td>FRA</td>\n",
       "      <td>France</td>\n",
       "      <td>2020-01-25</td>\n",
       "      <td>3.0</td>\n",
       "      <td>67422000.0</td>\n",
       "    </tr>\n",
       "    <tr>\n",
       "      <th>60792</th>\n",
       "      <td>FRA</td>\n",
       "      <td>France</td>\n",
       "      <td>2020-01-26</td>\n",
       "      <td>3.0</td>\n",
       "      <td>67422000.0</td>\n",
       "    </tr>\n",
       "    <tr>\n",
       "      <th>60793</th>\n",
       "      <td>FRA</td>\n",
       "      <td>France</td>\n",
       "      <td>2020-01-27</td>\n",
       "      <td>3.0</td>\n",
       "      <td>67422000.0</td>\n",
       "    </tr>\n",
       "    <tr>\n",
       "      <th>60794</th>\n",
       "      <td>FRA</td>\n",
       "      <td>France</td>\n",
       "      <td>2020-01-28</td>\n",
       "      <td>4.0</td>\n",
       "      <td>67422000.0</td>\n",
       "    </tr>\n",
       "  </tbody>\n",
       "</table>\n",
       "</div>"
      ],
      "text/plain": [
       "      iso_code location        date  total_cases  population\n",
       "60790      FRA   France  2020-01-24          2.0  67422000.0\n",
       "60791      FRA   France  2020-01-25          3.0  67422000.0\n",
       "60792      FRA   France  2020-01-26          3.0  67422000.0\n",
       "60793      FRA   France  2020-01-27          3.0  67422000.0\n",
       "60794      FRA   France  2020-01-28          4.0  67422000.0"
      ]
     },
     "execution_count": 35,
     "metadata": {},
     "output_type": "execute_result"
    }
   ],
   "source": [
    "# 코로나 데이터에서 국가가 프랑스인 행만 추출\n",
    "fra_df = revised_df[revised_df.location == \"France\"]\n",
    "fra_df.head()"
   ]
  },
  {
   "cell_type": "code",
   "execution_count": 36,
   "id": "abcc2a3e-986b-45f4-ad33-8277eb4b72aa",
   "metadata": {},
   "outputs": [
    {
     "data": {
      "text/html": [
       "<div>\n",
       "<style scoped>\n",
       "    .dataframe tbody tr th:only-of-type {\n",
       "        vertical-align: middle;\n",
       "    }\n",
       "\n",
       "    .dataframe tbody tr th {\n",
       "        vertical-align: top;\n",
       "    }\n",
       "\n",
       "    .dataframe thead th {\n",
       "        text-align: right;\n",
       "    }\n",
       "</style>\n",
       "<table border=\"1\" class=\"dataframe\">\n",
       "  <thead>\n",
       "    <tr style=\"text-align: right;\">\n",
       "      <th></th>\n",
       "      <th>iso_code</th>\n",
       "      <th>location</th>\n",
       "      <th>total_cases</th>\n",
       "      <th>population</th>\n",
       "    </tr>\n",
       "    <tr>\n",
       "      <th>date</th>\n",
       "      <th></th>\n",
       "      <th></th>\n",
       "      <th></th>\n",
       "      <th></th>\n",
       "    </tr>\n",
       "  </thead>\n",
       "  <tbody>\n",
       "    <tr>\n",
       "      <th>2020-01-24</th>\n",
       "      <td>FRA</td>\n",
       "      <td>France</td>\n",
       "      <td>2.0</td>\n",
       "      <td>67422000.0</td>\n",
       "    </tr>\n",
       "    <tr>\n",
       "      <th>2020-01-25</th>\n",
       "      <td>FRA</td>\n",
       "      <td>France</td>\n",
       "      <td>3.0</td>\n",
       "      <td>67422000.0</td>\n",
       "    </tr>\n",
       "    <tr>\n",
       "      <th>2020-01-26</th>\n",
       "      <td>FRA</td>\n",
       "      <td>France</td>\n",
       "      <td>3.0</td>\n",
       "      <td>67422000.0</td>\n",
       "    </tr>\n",
       "    <tr>\n",
       "      <th>2020-01-27</th>\n",
       "      <td>FRA</td>\n",
       "      <td>France</td>\n",
       "      <td>3.0</td>\n",
       "      <td>67422000.0</td>\n",
       "    </tr>\n",
       "    <tr>\n",
       "      <th>2020-01-28</th>\n",
       "      <td>FRA</td>\n",
       "      <td>France</td>\n",
       "      <td>4.0</td>\n",
       "      <td>67422000.0</td>\n",
       "    </tr>\n",
       "  </tbody>\n",
       "</table>\n",
       "</div>"
      ],
      "text/plain": [
       "           iso_code location  total_cases  population\n",
       "date                                                 \n",
       "2020-01-24      FRA   France          2.0  67422000.0\n",
       "2020-01-25      FRA   France          3.0  67422000.0\n",
       "2020-01-26      FRA   France          3.0  67422000.0\n",
       "2020-01-27      FRA   France          3.0  67422000.0\n",
       "2020-01-28      FRA   France          4.0  67422000.0"
      ]
     },
     "execution_count": 36,
     "metadata": {},
     "output_type": "execute_result"
    }
   ],
   "source": [
    "# 프랑스 데이터에서 date 컬럼을 인덱스로 설정\n",
    "fra_date_index_df = fra_df.set_index(\"date\")\n",
    "fra_date_index_df.head()"
   ]
  },
  {
   "cell_type": "code",
   "execution_count": 37,
   "id": "1ab75f2c-57e0-4b42-945e-62d28c04c581",
   "metadata": {},
   "outputs": [
    {
     "data": {
      "text/plain": [
       "date\n",
       "2020-01-22           1.0\n",
       "2020-01-23           1.0\n",
       "2020-01-24           2.0\n",
       "2020-01-25           2.0\n",
       "2020-01-26           3.0\n",
       "                 ...    \n",
       "2022-06-03    18153851.0\n",
       "2022-06-04    18163686.0\n",
       "2022-06-05    18168708.0\n",
       "2022-06-06    18174880.0\n",
       "2022-06-07    18188200.0\n",
       "Name: total_cases, Length: 868, dtype: float64"
      ]
     },
     "execution_count": 37,
     "metadata": {},
     "output_type": "execute_result"
    }
   ],
   "source": [
    "# 한국 데이터에서 확진자수 컬럼만 추출\n",
    "kor_total_cases = kor_date_index_df[\"total_cases\"]\n",
    "kor_total_cases"
   ]
  },
  {
   "cell_type": "code",
   "execution_count": 38,
   "id": "bc64ac29-e85c-4317-9353-efc5243c398b",
   "metadata": {},
   "outputs": [
    {
     "data": {
      "text/plain": [
       "date\n",
       "2020-01-24           2.0\n",
       "2020-01-25           3.0\n",
       "2020-01-26           3.0\n",
       "2020-01-27           3.0\n",
       "2020-01-28           4.0\n",
       "                 ...    \n",
       "2022-06-03    29650183.0\n",
       "2022-06-04    29675355.0\n",
       "2022-06-05    29695897.0\n",
       "2022-06-06    29702081.0\n",
       "2022-06-07    29713746.0\n",
       "Name: total_cases, Length: 866, dtype: float64"
      ]
     },
     "execution_count": 38,
     "metadata": {},
     "output_type": "execute_result"
    }
   ],
   "source": [
    "# 프랑스 데이터에서 확진자수 컬럼만 추출\n",
    "fra_total_cases = fra_date_index_df[\"total_cases\"]\n",
    "fra_total_cases"
   ]
  },
  {
   "cell_type": "code",
   "execution_count": 39,
   "id": "2c10159c-1120-4a8a-9131-7ca8d480f588",
   "metadata": {},
   "outputs": [
    {
     "data": {
      "text/plain": [
       "(51305184.0, 67422000.0)"
      ]
     },
     "execution_count": 39,
     "metadata": {},
     "output_type": "execute_result"
    }
   ],
   "source": [
    "# 2020-01-24 기준 한국 인구수 추출\n",
    "kor_population = kor_date_index_df['population']['2020-01-24']\n",
    "# 2020-01-24 기준 프랑스 인구수 추출\n",
    "fra_population = fra_date_index_df['population']['2020-01-24']\n",
    "kor_population, fra_population"
   ]
  },
  {
   "cell_type": "code",
   "execution_count": 40,
   "id": "004defd4-4340-4c2f-9cfa-1a79e31f081b",
   "metadata": {},
   "outputs": [
    {
     "data": {
      "text/plain": [
       "1.31"
      ]
     },
     "execution_count": 40,
     "metadata": {},
     "output_type": "execute_result"
    }
   ],
   "source": [
    "# 프랑스와 한국의 인구수 비율 계산\n",
    "rate = round(( fra_population / kor_population), 2)\n",
    "rate"
   ]
  },
  {
   "cell_type": "code",
   "execution_count": 41,
   "id": "30d45c8d-9fdd-4f0d-9ca1-33eab96b7732",
   "metadata": {},
   "outputs": [
    {
     "data": {
      "text/html": [
       "<div>\n",
       "<style scoped>\n",
       "    .dataframe tbody tr th:only-of-type {\n",
       "        vertical-align: middle;\n",
       "    }\n",
       "\n",
       "    .dataframe tbody tr th {\n",
       "        vertical-align: top;\n",
       "    }\n",
       "\n",
       "    .dataframe thead th {\n",
       "        text-align: right;\n",
       "    }\n",
       "</style>\n",
       "<table border=\"1\" class=\"dataframe\">\n",
       "  <thead>\n",
       "    <tr style=\"text-align: right;\">\n",
       "      <th></th>\n",
       "      <th>KOR</th>\n",
       "      <th>FRA</th>\n",
       "    </tr>\n",
       "    <tr>\n",
       "      <th>date</th>\n",
       "      <th></th>\n",
       "      <th></th>\n",
       "    </tr>\n",
       "  </thead>\n",
       "  <tbody>\n",
       "    <tr>\n",
       "      <th>2020-01-24</th>\n",
       "      <td>2.62</td>\n",
       "      <td>2.0</td>\n",
       "    </tr>\n",
       "    <tr>\n",
       "      <th>2020-01-25</th>\n",
       "      <td>2.62</td>\n",
       "      <td>3.0</td>\n",
       "    </tr>\n",
       "    <tr>\n",
       "      <th>2020-01-26</th>\n",
       "      <td>3.93</td>\n",
       "      <td>3.0</td>\n",
       "    </tr>\n",
       "    <tr>\n",
       "      <th>2020-01-27</th>\n",
       "      <td>5.24</td>\n",
       "      <td>3.0</td>\n",
       "    </tr>\n",
       "    <tr>\n",
       "      <th>2020-01-28</th>\n",
       "      <td>5.24</td>\n",
       "      <td>4.0</td>\n",
       "    </tr>\n",
       "  </tbody>\n",
       "</table>\n",
       "</div>"
      ],
      "text/plain": [
       "             KOR  FRA\n",
       "date                 \n",
       "2020-01-24  2.62  2.0\n",
       "2020-01-25  2.62  3.0\n",
       "2020-01-26  3.93  3.0\n",
       "2020-01-27  5.24  3.0\n",
       "2020-01-28  5.24  4.0"
      ]
     },
     "execution_count": 41,
     "metadata": {},
     "output_type": "execute_result"
    }
   ],
   "source": [
    "# 시각화용 데이터 생성\n",
    "final_revised_df = pd.DataFrame({\n",
    "    'KOR': kor_total_cases * rate,     # 한국과 프랑스의 인구수 차이를 없애기 위해 비율값을 곱함\n",
    "    'FRA' : fra_total_cases\n",
    "    }, index = fra_date_index_df[ : ].index)     # 2020-01-24부터 끝 데이터까지 범위 지정\n",
    "\n",
    "final_revised_df.head()"
   ]
  },
  {
   "cell_type": "code",
   "execution_count": 42,
   "id": "e0d68d64-3bfd-46a1-bbed-443ee2cf0948",
   "metadata": {},
   "outputs": [
    {
     "data": {
      "text/plain": [
       "<Axes: xlabel='date'>"
      ]
     },
     "execution_count": 42,
     "metadata": {},
     "output_type": "execute_result"
    },
    {
     "data": {
      "image/png": "[encoded data removed]",
      "text/plain": [
       "<Figure size 640x480 with 1 Axes>"
      ]
     },
     "metadata": {},
     "output_type": "display_data"
    }
   ],
   "source": [
    "# plot.line 함수를 사용하여 데이터 시각화\n",
    "final_revised_df.plot.line(rot=45)"
   ]
  },
  {
   "cell_type": "code",
   "execution_count": null,
   "id": "0a0e5cbe-fc74-40c0-a858-d5f9bc30596b",
   "metadata": {},
   "outputs": [],
   "source": []
  }
 ],
 "metadata": {
  "kernelspec": {
   "display_name": "Python 3 (ipykernel)",
   "language": "python",
   "name": "python3"
  },
  "language_info": {
   "codemirror_mode": {
    "name": "ipython",
    "version": 3
   },
   "file_extension": ".py",
   "mimetype": "text/x-python",
   "name": "python",
   "nbconvert_exporter": "python",
   "pygments_lexer": "ipython3",
   "version": "3.11.7"
  }
 },
 "nbformat": 4,
 "nbformat_minor": 5
}
