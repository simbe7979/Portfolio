{
 "cells": [
  {
   "cell_type": "code",
   "execution_count": 34,
   "id": "4d7854d6-2a4e-4f38-971c-3379f67a0f42",
   "metadata": {},
   "outputs": [],
   "source": [
    "# pandas 라이브러리 호출\n",
    "import pandas as pd"
   ]
  },
  {
   "cell_type": "code",
   "execution_count": 35,
   "id": "b559d6e5-4f86-45fd-aaf9-c87026b286c1",
   "metadata": {},
   "outputs": [],
   "source": [
    "# 코로나 데이터(csv)를 pandas 라이브러리로 읽어오기\n",
    "raw_df = pd.read_csv(\"C:\\\\data\\\\owid-covid-data.csv\")"
   ]
  },
  {
   "cell_type": "code",
   "execution_count": 36,
   "id": "9d97081d-c5bd-4f9f-a4b8-5db41aebca62",
   "metadata": {},
   "outputs": [
    {
     "data": {
      "text/html": [
       "<div>\n",
       "<style scoped>\n",
       "    .dataframe tbody tr th:only-of-type {\n",
       "        vertical-align: middle;\n",
       "    }\n",
       "\n",
       "    .dataframe tbody tr th {\n",
       "        vertical-align: top;\n",
       "    }\n",
       "\n",
       "    .dataframe thead th {\n",
       "        text-align: right;\n",
       "    }\n",
       "</style>\n",
       "<table border=\"1\" class=\"dataframe\">\n",
       "  <thead>\n",
       "    <tr style=\"text-align: right;\">\n",
       "      <th></th>\n",
       "      <th>iso_code</th>\n",
       "      <th>location</th>\n",
       "      <th>date</th>\n",
       "      <th>total_cases</th>\n",
       "      <th>population</th>\n",
       "    </tr>\n",
       "  </thead>\n",
       "  <tbody>\n",
       "    <tr>\n",
       "      <th>0</th>\n",
       "      <td>AFG</td>\n",
       "      <td>Afghanistan</td>\n",
       "      <td>2020-02-24</td>\n",
       "      <td>5.0</td>\n",
       "      <td>39835428.0</td>\n",
       "    </tr>\n",
       "    <tr>\n",
       "      <th>1</th>\n",
       "      <td>AFG</td>\n",
       "      <td>Afghanistan</td>\n",
       "      <td>2020-02-25</td>\n",
       "      <td>5.0</td>\n",
       "      <td>39835428.0</td>\n",
       "    </tr>\n",
       "    <tr>\n",
       "      <th>2</th>\n",
       "      <td>AFG</td>\n",
       "      <td>Afghanistan</td>\n",
       "      <td>2020-02-26</td>\n",
       "      <td>5.0</td>\n",
       "      <td>39835428.0</td>\n",
       "    </tr>\n",
       "    <tr>\n",
       "      <th>3</th>\n",
       "      <td>AFG</td>\n",
       "      <td>Afghanistan</td>\n",
       "      <td>2020-02-27</td>\n",
       "      <td>5.0</td>\n",
       "      <td>39835428.0</td>\n",
       "    </tr>\n",
       "    <tr>\n",
       "      <th>4</th>\n",
       "      <td>AFG</td>\n",
       "      <td>Afghanistan</td>\n",
       "      <td>2020-02-28</td>\n",
       "      <td>5.0</td>\n",
       "      <td>39835428.0</td>\n",
       "    </tr>\n",
       "  </tbody>\n",
       "</table>\n",
       "</div>"
      ],
      "text/plain": [
       "  iso_code     location        date  total_cases  population\n",
       "0      AFG  Afghanistan  2020-02-24          5.0  39835428.0\n",
       "1      AFG  Afghanistan  2020-02-25          5.0  39835428.0\n",
       "2      AFG  Afghanistan  2020-02-26          5.0  39835428.0\n",
       "3      AFG  Afghanistan  2020-02-27          5.0  39835428.0\n",
       "4      AFG  Afghanistan  2020-02-28          5.0  39835428.0"
      ]
     },
     "execution_count": 36,
     "metadata": {},
     "output_type": "execute_result"
    }
   ],
   "source": [
    "# 필요컬럼(iso 코드, 국가, 날짜, 확진자 수, 인구수) 선택\n",
    "selected_columns = [\"iso_code\", \"location\", \"date\", \"total_cases\", \"population\"]\n",
    "# 코로나 데이터에서 필요컬럼만 추출\n",
    "revised_df = raw_df[selected_columns]\n",
    "revised_df.head()"
   ]
  },
  {
   "cell_type": "code",
   "execution_count": 37,
   "id": "f0405b4a-d3e6-4a6d-b0f8-a8f4d39f00c6",
   "metadata": {},
   "outputs": [
    {
     "data": {
      "text/plain": [
       "0         Afghanistan\n",
       "1         Afghanistan\n",
       "2         Afghanistan\n",
       "3         Afghanistan\n",
       "4         Afghanistan\n",
       "             ...     \n",
       "192296       Zimbabwe\n",
       "192297       Zimbabwe\n",
       "192298       Zimbabwe\n",
       "192299       Zimbabwe\n",
       "192300       Zimbabwe\n",
       "Name: location, Length: 192301, dtype: object"
      ]
     },
     "execution_count": 37,
     "metadata": {},
     "output_type": "execute_result"
    }
   ],
   "source": [
    "# 국가 컬럼 데이터만 추출\n",
    "locations = revised_df[\"location\"]\n",
    "locations"
   ]
  },
  {
   "cell_type": "code",
   "execution_count": 38,
   "id": "dda07320-6638-4322-88b3-980bcdc0d5d0",
   "metadata": {},
   "outputs": [
    {
     "data": {
      "text/plain": [
       "array(['Afghanistan', 'Africa', 'Albania', 'Algeria', 'Andorra', 'Angola',\n",
       "       'Anguilla', 'Antigua and Barbuda', 'Argentina', 'Armenia', 'Aruba',\n",
       "       'Asia', 'Australia', 'Austria', 'Azerbaijan', 'Bahamas', 'Bahrain',\n",
       "       'Bangladesh', 'Barbados', 'Belarus', 'Belgium', 'Belize', 'Benin',\n",
       "       'Bermuda', 'Bhutan', 'Bolivia', 'Bonaire Sint Eustatius and Saba',\n",
       "       'Bosnia and Herzegovina', 'Botswana', 'Brazil',\n",
       "       'British Virgin Islands', 'Brunei', 'Bulgaria', 'Burkina Faso',\n",
       "       'Burundi', 'Cambodia', 'Cameroon', 'Canada', 'Cape Verde',\n",
       "       'Cayman Islands', 'Central African Republic', 'Chad', 'Chile',\n",
       "       'China', 'Colombia', 'Comoros', 'Congo', 'Cook Islands',\n",
       "       'Costa Rica', \"Cote d'Ivoire\", 'Croatia', 'Cuba', 'Curacao',\n",
       "       'Cyprus', 'Czechia', 'Democratic Republic of Congo', 'Denmark',\n",
       "       'Djibouti', 'Dominica', 'Dominican Republic', 'Ecuador', 'Egypt',\n",
       "       'El Salvador', 'Equatorial Guinea', 'Eritrea', 'Estonia',\n",
       "       'Eswatini', 'Ethiopia', 'Europe', 'European Union',\n",
       "       'Faeroe Islands', 'Falkland Islands', 'Fiji', 'Finland', 'France',\n",
       "       'French Polynesia', 'Gabon', 'Gambia', 'Georgia', 'Germany',\n",
       "       'Ghana', 'Gibraltar', 'Greece', 'Greenland', 'Grenada', 'Guam',\n",
       "       'Guatemala', 'Guernsey', 'Guinea', 'Guinea-Bissau', 'Guyana',\n",
       "       'Haiti', 'High income', 'Honduras', 'Hong Kong', 'Hungary',\n",
       "       'Iceland', 'India', 'Indonesia', 'International', 'Iran', 'Iraq',\n",
       "       'Ireland', 'Isle of Man', 'Israel', 'Italy', 'Jamaica', 'Japan',\n",
       "       'Jersey', 'Jordan', 'Kazakhstan', 'Kenya', 'Kiribati', 'Kosovo',\n",
       "       'Kuwait', 'Kyrgyzstan', 'Laos', 'Latvia', 'Lebanon', 'Lesotho',\n",
       "       'Liberia', 'Libya', 'Liechtenstein', 'Lithuania', 'Low income',\n",
       "       'Lower middle income', 'Luxembourg', 'Macao', 'Madagascar',\n",
       "       'Malawi', 'Malaysia', 'Maldives', 'Mali', 'Malta',\n",
       "       'Marshall Islands', 'Mauritania', 'Mauritius', 'Mexico',\n",
       "       'Micronesia (country)', 'Moldova', 'Monaco', 'Mongolia',\n",
       "       'Montenegro', 'Montserrat', 'Morocco', 'Mozambique', 'Myanmar',\n",
       "       'Namibia', 'Nauru', 'Nepal', 'Netherlands', 'New Caledonia',\n",
       "       'New Zealand', 'Nicaragua', 'Niger', 'Nigeria', 'Niue',\n",
       "       'North America', 'North Korea', 'North Macedonia',\n",
       "       'Northern Cyprus', 'Northern Mariana Islands', 'Norway', 'Oceania',\n",
       "       'Oman', 'Pakistan', 'Palau', 'Palestine', 'Panama',\n",
       "       'Papua New Guinea', 'Paraguay', 'Peru', 'Philippines', 'Pitcairn',\n",
       "       'Poland', 'Portugal', 'Puerto Rico', 'Qatar', 'Romania', 'Russia',\n",
       "       'Rwanda', 'Saint Helena', 'Saint Kitts and Nevis', 'Saint Lucia',\n",
       "       'Saint Pierre and Miquelon', 'Saint Vincent and the Grenadines',\n",
       "       'Samoa', 'San Marino', 'Sao Tome and Principe', 'Saudi Arabia',\n",
       "       'Senegal', 'Serbia', 'Seychelles', 'Sierra Leone', 'Singapore',\n",
       "       'Sint Maarten (Dutch part)', 'Slovakia', 'Slovenia',\n",
       "       'Solomon Islands', 'Somalia', 'South Africa', 'South America',\n",
       "       'South Korea', 'South Sudan', 'Spain', 'Sri Lanka', 'Sudan',\n",
       "       'Suriname', 'Sweden', 'Switzerland', 'Syria', 'Taiwan',\n",
       "       'Tajikistan', 'Tanzania', 'Thailand', 'Timor', 'Togo', 'Tokelau',\n",
       "       'Tonga', 'Trinidad and Tobago', 'Tunisia', 'Turkey',\n",
       "       'Turkmenistan', 'Turks and Caicos Islands', 'Tuvalu', 'Uganda',\n",
       "       'Ukraine', 'United Arab Emirates', 'United Kingdom',\n",
       "       'United States', 'United States Virgin Islands',\n",
       "       'Upper middle income', 'Uruguay', 'Uzbekistan', 'Vanuatu',\n",
       "       'Vatican', 'Venezuela', 'Vietnam', 'Wallis and Futuna',\n",
       "       'Western Sahara', 'World', 'Yemen', 'Zambia', 'Zimbabwe'],\n",
       "      dtype=object)"
      ]
     },
     "execution_count": 38,
     "metadata": {},
     "output_type": "execute_result"
    }
   ],
   "source": [
    "# 국가 확인\n",
    "locations.unique()"
   ]
  },
  {
   "cell_type": "code",
   "execution_count": 39,
   "id": "653562ba-4b95-47ae-b135-2e49f52bf068",
   "metadata": {},
   "outputs": [],
   "source": [
    "# 국가가 한국인 행만 추출\n",
    "kor_df = revised_df[revised_df.location == \"South Korea\"]\n",
    "# 국가가 미국인 행만 추출\n",
    "usa_df = revised_df[revised_df.location == \"United States\"]\n",
    "# 국가가 프랑스인 행만 추출\n",
    "fra_df = revised_df[revised_df.location == \"France\"]\n",
    "# 국가가 영국인 행만 추출\n",
    "gbr_df = revised_df[revised_df.location == \"United Kingdom\"]\n",
    "# 국가가 폴란드인 행만 추출\n",
    "pol_df = revised_df[revised_df.location == \"Poland\"]"
   ]
  },
  {
   "cell_type": "code",
   "execution_count": 40,
   "id": "38a85281-7aa2-4f3b-953f-f798197a386f",
   "metadata": {},
   "outputs": [],
   "source": [
    "# 한국 데이터에서 date 컬럼을 인덱스로 설정\n",
    "kor_date_index_df = kor_df.set_index(\"date\")\n",
    "# 미국 데이터에서 date 컬럼을 인덱스로 설정\n",
    "usa_date_index_df = usa_df.set_index(\"date\")\n",
    "# 프랑스 데이터에서 date 컬럼을 인덱스로 설정\n",
    "fra_date_index_df = fra_df.set_index(\"date\")\n",
    "# 영국 데이터에서 date 컬럼을 인덱스로 설정\n",
    "gbr_date_index_df = gbr_df.set_index(\"date\")\n",
    "# 폴란드 데이터에서 date 컬럼을 인덱스로 설정\n",
    "pol_date_index_df = pol_df.set_index(\"date\")"
   ]
  },
  {
   "cell_type": "code",
   "execution_count": 41,
   "id": "037493d5-2e73-415f-a4b2-08aed5ce7904",
   "metadata": {},
   "outputs": [],
   "source": [
    "# 한국 데이터에서 확진자수 컬럼만 추출\n",
    "kor_total_cases = kor_date_index_df[\"total_cases\"]\n",
    "# 미국 데이터에서 확진자수 컬럼만 추출\n",
    "usa_total_cases = usa_date_index_df[\"total_cases\"]\n",
    "# 프랑스 데이터에서 확진자수 컬럼만 추출\n",
    "fra_total_cases = fra_date_index_df[\"total_cases\"]\n",
    "# 영국 데이터에서 확진자수 컬럼만 추출\n",
    "gbr_total_cases = gbr_date_index_df[\"total_cases\"]\n",
    "# 폴란드 데이터에서 확진자수 컬럼만 추출\n",
    "pol_total_cases = pol_date_index_df[\"total_cases\"]"
   ]
  },
  {
   "cell_type": "code",
   "execution_count": 42,
   "id": "a205259b-4f95-4965-aaa5-393597602295",
   "metadata": {},
   "outputs": [],
   "source": [
    "# 2020-03-04 기준 한국 인구수 추출\n",
    "kor_population = kor_date_index_df['population']['2020-03-04']\n",
    "# 2020-03-04 기준 미국 인구수 추출\n",
    "usa_population = usa_date_index_df['population']['2020-03-04']\n",
    "# 2020-03-04 기준 프랑스 인구수 추출\n",
    "fra_population = fra_date_index_df['population']['2020-03-04']\n",
    "# 2020-03-04 기준 영국 인구수 추출\n",
    "gbr_population = gbr_date_index_df['population']['2020-03-04']\n",
    "# 2020-03-04 기준 폴란드 인구수 추출\n",
    "pol_population = pol_date_index_df['population']['2020-03-04']"
   ]
  },
  {
   "cell_type": "code",
   "execution_count": 43,
   "id": "ad51dc31-4f15-4a26-b76c-20282254a65d",
   "metadata": {},
   "outputs": [],
   "source": [
    "# 한국을 기준으로 한국과 미국의 인구수 비율 계산\n",
    "ku_rate = round((kor_population / usa_population), 2)\n",
    "# 한국을 기준으로 한국과 프랑스의 인구수 비율 계산\n",
    "kf_rate = round((kor_population / fra_population), 2)\n",
    "# 한국을 기준으로 한국과 영국의 인구수 비율 계산\n",
    "kg_rate = round((kor_population / gbr_population), 2)\n",
    "# 한국을 기준으로 한국과 폴란드의 인구수 비율 계산\n",
    "kp_rate = round((kor_population / pol_population), 2)"
   ]
  },
  {
   "cell_type": "code",
   "execution_count": 44,
   "id": "65f86007-4bb4-400c-87f3-2bad448cc365",
   "metadata": {},
   "outputs": [],
   "source": [
    "# 시각화용 데이터 생성\n",
    "final_revised_df = pd.DataFrame({\n",
    "    'KOR': kor_total_cases,\n",
    "    'USA' : usa_total_cases * ku_rate,     # 한국과 미국의 인구수 차이를 없애기 위해 비율값을 곱함\n",
    "    'FRA' : fra_total_cases * kf_rate,     # 한국과 프랑스의 인구수 차이를 없애기 위해 비율값을 곱함\n",
    "    'GBR' : gbr_total_cases * kg_rate,     # 한국과 영국의 인구수 차이를 없애기 위해 비율값을 곱함\n",
    "    'POL' : pol_total_cases * kp_rate,     # 한국과 폴란드의 인구수 차이를 없애기 위해 비율값을 곱함\n",
    "    }, index = kor_date_index_df[\"2020-01-22\" : ].index)     #2020-01-22 부터 끝 데이터까지 범위 지정"
   ]
  },
  {
   "cell_type": "code",
   "execution_count": 45,
   "id": "d058763f-f728-43ff-b9d8-bcc08387e6fc",
   "metadata": {},
   "outputs": [
    {
     "data": {
      "text/plain": [
       "<Axes: xlabel='date'>"
      ]
     },
     "execution_count": 45,
     "metadata": {},
     "output_type": "execute_result"
    },
    {
     "data": {
      "image/png": "[encoded data removed]",
      "text/plain": [
       "<Figure size 640x480 with 1 Axes>"
      ]
     },
     "metadata": {},
     "output_type": "display_data"
    }
   ],
   "source": [
    "# plot.line 함수를 사용하여 데이터 시각화\n",
    "final_revised_df.plot.line(rot=45)"
   ]
  },
  {
   "cell_type": "code",
   "execution_count": null,
   "id": "94b44f71-90d9-41a2-bce2-432b72014814",
   "metadata": {},
   "outputs": [],
   "source": []
  }
 ],
 "metadata": {
  "kernelspec": {
   "display_name": "Python 3 (ipykernel)",
   "language": "python",
   "name": "python3"
  },
  "language_info": {
   "codemirror_mode": {
    "name": "ipython",
    "version": 3
   },
   "file_extension": ".py",
   "mimetype": "text/x-python",
   "name": "python",
   "nbconvert_exporter": "python",
   "pygments_lexer": "ipython3",
   "version": "3.11.7"
  }
 },
 "nbformat": 4,
 "nbformat_minor": 5
}
