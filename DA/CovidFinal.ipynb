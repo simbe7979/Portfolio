{
 "cells": [
  {
   "cell_type": "code",
   "execution_count": 46,
   "id": "5a624cda-3a42-4fd4-9ef9-c4c28f8332df",
   "metadata": {},
   "outputs": [],
   "source": [
    "# pandas, cx_Oracle, datetime 라이브러리 호출\n",
    "import pandas as pd\n",
    "import numpy as np\n",
    "import cx_Oracle\n",
    "import datetime"
   ]
  },
  {
   "cell_type": "code",
   "execution_count": 47,
   "id": "51976722-7663-41c0-a001-a51f71e86248",
   "metadata": {},
   "outputs": [],
   "source": [
    "# EdCSV 클래스 생성 (csv파일들을 합친 뒤, 필요 컬럼들만 추출한 csv파일을 저장하고 리턴)\n",
    "class EdCSV :\n",
    "    # 필요컬럼을 담는 멤버필드\n",
    "    cols = None\n",
    "\n",
    "    # 생성자\n",
    "    def __init__(self) :\n",
    "        pass\n",
    "        \n",
    "    # 멤버메소드\n",
    "    #  *args로 여러 개의 데이터프레임을 파라미터로 받음\n",
    "    def mergedf(self, *args) :\n",
    "        merged_df = None\n",
    "        # 받은 데이터프레임을 합치는 for문\n",
    "        for df in args :\n",
    "            # 첫 번째 데이터프레임을 merged_df로 설정\n",
    "            if df.equals(args[0]) :\n",
    "                merged_df = df\n",
    "                continue\n",
    "            # 필요컬럼들만 추출하고 합치기\n",
    "            merged_df = pd.concat([merged_df[self.cols], df[self.cols]], ignore_index=True)\n",
    "        # date 컬럼을 기준으로 오름차순 정렬\n",
    "        merged_df.sort_values(by = 'date', inplace=True)\n",
    "        # 필터링한 데이터프레임을 csv파일로 저장\n",
    "        merged_df.to_csv('C:\\\\data\\\\merged_file.csv', index=False)\n",
    "        merged_csv = 'C:\\\\data\\\\merged_file.csv'\n",
    "        # 필터링된 csv파일을 리턴\n",
    "        return merged_csv"
   ]
  },
  {
   "cell_type": "code",
   "execution_count": 48,
   "id": "fe318519-7c98-4cf3-b7b6-8411e051e708",
   "metadata": {},
   "outputs": [],
   "source": [
    "# EdDB 클래스 생성 (CSV파일을 읽고 DB에 저장)\n",
    "class EdDB :\n",
    "    # 멤버필드\n",
    "    con = None\n",
    "    cur = None\n",
    "    \n",
    "    # 생성자\n",
    "    def __init__(self) :\n",
    "        pass\n",
    "\n",
    "    # 멤버메소드\n",
    "    def insertDB(self, csv) :\n",
    "        # DB에 연결하고 입력하는 con, cur 생성\n",
    "        self.con = cx_Oracle.connect(\"Scott/tiger@localhost:1521/xe\")\n",
    "        self.cur = self.con.cursor()\n",
    "        # 파라미터로 받은 CSV파일 읽어오기\n",
    "        df = pd.read_csv(csv)\n",
    "        # 행 개수 만큼 반복\n",
    "        for i in range(len(df)) :\n",
    "            if df.iloc[i]['location'] == 'South Korea' :\n",
    "                # 한국식별코드생성\n",
    "                data0 = \"KR\" + df.iloc[i]['date'].replace(\"-\", \"\")\n",
    "            elif df.iloc[i]['state'] == 'HI' :\n",
    "                # 하와이식별코드생성\n",
    "                data0 = \"HI\" + df.iloc[i]['date'].replace(\"-\", \"\")\n",
    "            else :\n",
    "                # 미국식별코드생성\n",
    "                data0 = \"US\" + df.iloc[i]['date'].replace(\"-\", \"\")\n",
    "            date_str = df.iloc[i]['date']\n",
    "            # date컬럼 값을 '연도-월-일' 날짜 타입으로 변경\n",
    "            date_data = datetime.datetime.strptime(date_str, '%Y-%m-%d')\n",
    "            data1 = self.cur.var(cx_Oracle.TIMESTAMP)\n",
    "             # data1에 날짜값 넣기\n",
    "            data1.setvalue(0, date_data)\n",
    "            # data2에 국가이름 넣기\n",
    "            data2 = df.iloc[i]['location']\n",
    "            # 주 이름이 있으면 넣고 없으면 None\n",
    "            if pd.isna(df.iloc[i]['state']) :\n",
    "                data3 = None\n",
    "            else :\n",
    "                data3 = df.iloc[i]['state']\n",
    "            # 총 확진자수 값이 있으면 넣고 없으면 None\n",
    "            if pd.isna(df.iloc[i]['total_cases']) :    \n",
    "                data4 = None\n",
    "            else :\n",
    "                data4 = int(df.iloc[i]['total_cases'])\n",
    "            # 인구수 값이 있으면 넣고 없으면 None\n",
    "            if pd.isna(df.iloc[i]['population']) :\n",
    "                data5 = None\n",
    "            else :\n",
    "                data5 = int(df.iloc[i]['population'])\n",
    "             \n",
    "            # sql문 생성\n",
    "            sql = \"INSERT INTO covid VALUES(:1, :2, :3, :4, :5, :6)\"\n",
    "            # sql문 실행\n",
    "            self.cur.execute(sql, (data0, data1.getvalue(), data2, data3, data4, data5))\n",
    "\n",
    "        self.con.commit()      # 데이터 저장\n",
    "        self.cur.close()       # 커서 종료\n",
    "        self.con.close()       # 연결 종료"
   ]
  },
  {
   "cell_type": "code",
   "execution_count": 49,
   "id": "ed94eaa2-5020-4254-9a8e-b7a88ca09c72",
   "metadata": {},
   "outputs": [],
   "source": [
    "# 시각화 클래스 생성\n",
    "class Visualization :\n",
    "    # 생성자\n",
    "    def __init__(self) :\n",
    "        pass\n",
    "\n",
    "    # 시각화 메소드\n",
    "    def visual(self, csv1, csv2) :\n",
    "        # csv파일들을 읽어오기\n",
    "        df1 = pd.read_csv(csv1)\n",
    "        df2 = pd.read_csv(csv2)\n",
    "        # 국가 비율 구하기\n",
    "        rate = round((df1.iloc[0]['POPULATION'] / df2.iloc[0]['POPULATION']), 2)\n",
    "\n",
    "        # 날짜를 인덱스로 설정\n",
    "        df1.set_index('SUBMISSION_DATE', inplace = True)\n",
    "        df2.set_index('SUBMISSION_DATE', inplace = True)\n",
    "\n",
    "        # 날짜 기준으로 오름차순 정렬\n",
    "        df1.sort_values(by='SUBMISSION_DATE', inplace=True)\n",
    "        df2.sort_values(by='SUBMISSION_DATE', inplace=True)\n",
    "\n",
    "        # 총확진자수만 추출\n",
    "        df1_total_cases = df1['TOT_CASES']\n",
    "        df2_total_cases = df2['TOT_CASES']\n",
    "\n",
    "        # 시각화용 데이터프레임 생성\n",
    "        final_df = pd.DataFrame({\n",
    "            'KOR': df1_total_cases, \n",
    "            'HI': df2_total_cases * rate\n",
    "        }, index=df1_total_cases.index)\n",
    "\n",
    "        # 데이터 시각화\n",
    "        final_df.plot.line(rot=45)"
   ]
  },
  {
   "cell_type": "code",
   "execution_count": 50,
   "id": "6b6de222-26ed-419d-8105-0c11fc4a1aab",
   "metadata": {},
   "outputs": [],
   "source": [
    "# DB에서 원하는 데이터를 추출 후 csv파일로 만드는 함수\n",
    "def selectDB(filename, table, location, startday, endday) :\n",
    "    conn = cx_Oracle.connect(\"Scott/tiger@localhost:1521/xe\")\n",
    "    if location != 'Hawaii' :\n",
    "        query = f\"SELECT * FROM {table} WHERE location = '{location}' AND state is null AND submission_date BETWEEN '{startday}' AND '{endday}'\"\n",
    "    else :\n",
    "        query = f\"SELECT * FROM {table} WHERE state = 'HI' AND submission_date BETWEEN '{startday}' AND '{endday}'\"       \n",
    "    df = pd.read_sql(query, conn)\n",
    "    df.to_csv('C:\\\\data\\\\' + filename + '.csv', index=False)\n",
    "    csvfile = 'C:\\\\data\\\\' + filename + '.csv'\n",
    "    conn.close()\n",
    "    return csvfile"
   ]
  },
  {
   "cell_type": "code",
   "execution_count": 51,
   "id": "6e6f1b31-256a-45a8-857f-3b0a2f5aa5ce",
   "metadata": {},
   "outputs": [],
   "source": [
    "# csv파일들을 필터링하는 함수\n",
    "def filterCSV(covidcsv, hawaiicsv) :\n",
    "    # 데이터프레임으로 읽어오기\n",
    "    raw_df = pd.read_csv(covidcsv)\n",
    "    hi_df = pd.read_csv(hawaiicsv)\n",
    "    # 데이터프레임의 컬럼명 맞추기\n",
    "    hi_df = hi_df.rename(columns = {'tot_cases' : 'total_cases'})\n",
    "    # state 컬럼이 없으면 생성\n",
    "    if 'state' not in raw_df.columns:\n",
    "        raw_df['state'] = np.nan\n",
    "    if 'state' not in hi_df.columns:\n",
    "        hi_df['state'] = np.nan\n",
    "    # 하와이 인구수\n",
    "    hi_df['population'] = 1433336\n",
    "    # 하와이 국가 이름\n",
    "    hi_df['location'] = 'United States'\n",
    "    # date컬럼에 datetime 함수 적용\n",
    "    raw_df['date'] = pd.to_datetime(raw_df['date'])\n",
    "    hi_df['date'] = pd.to_datetime(hi_df['submission_date'])\n",
    "    # 한국과 미국 데이터만 추출\n",
    "    krus_df = raw_df[raw_df.location.isin(['South Korea', 'United States'])]\n",
    "\n",
    "    # 필터링한 데이터프레임 리턴\n",
    "    return krus_df, hi_df"
   ]
  },
  {
   "cell_type": "code",
   "execution_count": 52,
   "id": "f0f5608e-681b-4314-9730-023056c9235b",
   "metadata": {},
   "outputs": [],
   "source": [
    "            ## 메인코드 부분 ##\n",
    "# 코로나 데이터(csv), 하와이 코로나 데이터(csv)\n",
    "covid_csv ='C:\\\\data\\\\owid-covid-data.csv'\n",
    "hawaii_covid_csv = 'C:\\\\data\\\\hawaii-covid-data.csv'"
   ]
  },
  {
   "cell_type": "code",
   "execution_count": 53,
   "id": "4c83a959-d38b-45b1-b1ac-8d243361f0cb",
   "metadata": {},
   "outputs": [],
   "source": [
    "# FilterCSV 함수에 2개의 csv파일을 넣고 리턴값 받기\n",
    "df1, df2 = filterCSV(covid_csv, hawaii_covid_csv)"
   ]
  },
  {
   "cell_type": "code",
   "execution_count": 54,
   "id": "d9d30c73-7fd3-47cc-bf3f-7466bf024708",
   "metadata": {},
   "outputs": [],
   "source": [
    "# EdCSV 객체 생성\n",
    "newCSV = EdCSV()\n",
    "# 필요컬럼들을 객체의 필드값으로 저장\n",
    "newCSV.cols = ['date', 'location', 'state', 'total_cases', 'population']\n",
    "# 두 데이터프레임을 파라미터로 넣고 메소드 실행\n",
    "merged_csv = newCSV.mergedf(df1, df2)"
   ]
  },
  {
   "cell_type": "code",
   "execution_count": 55,
   "id": "b9f4541a-b3cc-49bb-846d-a1796f0e0210",
   "metadata": {},
   "outputs": [],
   "source": [
    "# edDB 객체 생성\n",
    "myDB = EdDB()\n",
    "# 필터링된 CSV파일을 파라미터로 넣고 메소드 실행\n",
    "myDB.insertDB(merged_csv)"
   ]
  },
  {
   "cell_type": "code",
   "execution_count": 56,
   "id": "6da3771c-5215-41eb-8836-0126bbb2b143",
   "metadata": {},
   "outputs": [
    {
     "name": "stderr",
     "output_type": "stream",
     "text": [
      "C:\\Users\\user\\AppData\\Local\\Temp\\ipykernel_23460\\2171102014.py:7: UserWarning: pandas only supports SQLAlchemy connectable (engine/connection) or database string URI or sqlite3 DBAPI2 connection. Other DBAPI2 objects are not tested. Please consider using SQLAlchemy.\n",
      "  df = pd.read_sql(query, conn)\n"
     ]
    }
   ],
   "source": [
    "# DB에서 원하는 데이터를 csv파일로 가져오기\n",
    "kor_csv = selectDB(filename = 'korData', \n",
    "                   table = 'covid', \n",
    "                   location = 'South Korea', \n",
    "                   startday = '2022-01-01', \n",
    "                   endday = '2022-07-21')\n",
    "\n",
    "hi_csv = selectDB(filename = 'hiData',\n",
    "                  table = 'covid',\n",
    "                  location = 'Hawaii',\n",
    "                  startday = '2022-01-01',\n",
    "                  endday = '2022-07-21')"
   ]
  },
  {
   "cell_type": "code",
   "execution_count": 57,
   "id": "4b8dcb86-8c2d-417a-984a-83e50a411c3b",
   "metadata": {},
   "outputs": [
    {
     "data": {
      "image/png": "[encoded data removed]",
      "text/plain": [
       "<Figure size 640x480 with 1 Axes>"
      ]
     },
     "metadata": {},
     "output_type": "display_data"
    }
   ],
   "source": [
    "# Visualization 객체 생성\n",
    "my_visual = Visualization()\n",
    "# 비교할 csv파일들을 넣고 시각화 함수 실행\n",
    "my_visual.visual(kor_csv, hi_csv)"
   ]
  },
  {
   "cell_type": "code",
   "execution_count": null,
   "id": "f6d0abfd-f3e2-4789-a66f-e5b6019f1f8d",
   "metadata": {},
   "outputs": [],
   "source": []
  }
 ],
 "metadata": {
  "kernelspec": {
   "display_name": "Python 3 (ipykernel)",
   "language": "python",
   "name": "python3"
  },
  "language_info": {
   "codemirror_mode": {
    "name": "ipython",
    "version": 3
   },
   "file_extension": ".py",
   "mimetype": "text/x-python",
   "name": "python",
   "nbconvert_exporter": "python",
   "pygments_lexer": "ipython3",
   "version": "3.11.7"
  }
 },
 "nbformat": 4,
 "nbformat_minor": 5
}
