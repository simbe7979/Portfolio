{
 "cells": [
  {
   "cell_type": "code",
   "execution_count": 54,
   "id": "5a1600c2-13b4-4595-a635-2b5a0e1c17ce",
   "metadata": {},
   "outputs": [],
   "source": [
    "# pandas 라이브러리 호출\n",
    "import pandas as pd"
   ]
  },
  {
   "cell_type": "code",
   "execution_count": 55,
   "id": "d0296ee7-3216-48a7-8605-74893a1ccbb7",
   "metadata": {},
   "outputs": [],
   "source": [
    "# 코로나 데이터(csv), 하와이 코로나 데이터(csv)를 pandas 라이브러리로 읽어오기\n",
    "raw_df = pd.read_csv('C:\\\\data\\\\owid-covid-data.csv')\n",
    "raw_hawaii_df = pd.read_csv('C:\\\\data\\\\hawaii-covid-data.csv')"
   ]
  },
  {
   "cell_type": "code",
   "execution_count": 56,
   "id": "29c87ad0-d7ca-4fa6-b4a3-0a47bb58395d",
   "metadata": {},
   "outputs": [],
   "source": [
    "# 필요컬럼(iso코드, 국가, 날짜, 확진자수, 인구수) 선택\n",
    "selected_columns = [\"iso_code\", \"location\", \"date\", \"total_cases\", \"population\"]\n",
    "# 코로나 데이터에서 필요컬럼들만 추출\n",
    "revised_df = raw_df[selected_columns]"
   ]
  },
  {
   "cell_type": "code",
   "execution_count": 57,
   "id": "5425d4d6-a8c1-43d3-9459-4d1a5c971e1e",
   "metadata": {},
   "outputs": [],
   "source": [
    "# 국가 컬럼만 추출\n",
    "locations = revised_df[\"location\"]"
   ]
  },
  {
   "cell_type": "code",
   "execution_count": 58,
   "id": "04fd9e46-580c-4878-91f0-575a8309907b",
   "metadata": {},
   "outputs": [
    {
     "data": {
      "text/plain": [
       "array(['Afghanistan', 'Africa', 'Albania', 'Algeria', 'American Samoa',\n",
       "       'Andorra', 'Angola', 'Anguilla', 'Antigua and Barbuda',\n",
       "       'Argentina', 'Armenia', 'Aruba', 'Asia', 'Australia', 'Austria',\n",
       "       'Azerbaijan', 'Bahamas', 'Bahrain', 'Bangladesh', 'Barbados',\n",
       "       'Belarus', 'Belgium', 'Belize', 'Benin', 'Bermuda', 'Bhutan',\n",
       "       'Bolivia', 'Bonaire Sint Eustatius and Saba',\n",
       "       'Bosnia and Herzegovina', 'Botswana', 'Brazil',\n",
       "       'British Virgin Islands', 'Brunei', 'Bulgaria', 'Burkina Faso',\n",
       "       'Burundi', 'Cambodia', 'Cameroon', 'Canada', 'Cape Verde',\n",
       "       'Cayman Islands', 'Central African Republic', 'Chad', 'Chile',\n",
       "       'China', 'Colombia', 'Comoros', 'Congo', 'Cook Islands',\n",
       "       'Costa Rica', \"Cote d'Ivoire\", 'Croatia', 'Cuba', 'Curacao',\n",
       "       'Cyprus', 'Czechia', 'Democratic Republic of Congo', 'Denmark',\n",
       "       'Djibouti', 'Dominica', 'Dominican Republic', 'Ecuador', 'Egypt',\n",
       "       'El Salvador', 'England', 'Equatorial Guinea', 'Eritrea',\n",
       "       'Estonia', 'Eswatini', 'Ethiopia', 'Europe', 'European Union',\n",
       "       'Faeroe Islands', 'Falkland Islands', 'Fiji', 'Finland', 'France',\n",
       "       'French Guiana', 'French Polynesia', 'Gabon', 'Gambia', 'Georgia',\n",
       "       'Germany', 'Ghana', 'Gibraltar', 'Greece', 'Greenland', 'Grenada',\n",
       "       'Guadeloupe', 'Guam', 'Guatemala', 'Guernsey', 'Guinea',\n",
       "       'Guinea-Bissau', 'Guyana', 'Haiti', 'High income', 'Honduras',\n",
       "       'Hong Kong', 'Hungary', 'Iceland', 'India', 'Indonesia', 'Iran',\n",
       "       'Iraq', 'Ireland', 'Isle of Man', 'Israel', 'Italy', 'Jamaica',\n",
       "       'Japan', 'Jersey', 'Jordan', 'Kazakhstan', 'Kenya', 'Kiribati',\n",
       "       'Kosovo', 'Kuwait', 'Kyrgyzstan', 'Laos', 'Latvia', 'Lebanon',\n",
       "       'Lesotho', 'Liberia', 'Libya', 'Liechtenstein', 'Lithuania',\n",
       "       'Low income', 'Lower middle income', 'Luxembourg', 'Macao',\n",
       "       'Madagascar', 'Malawi', 'Malaysia', 'Maldives', 'Mali', 'Malta',\n",
       "       'Marshall Islands', 'Martinique', 'Mauritania', 'Mauritius',\n",
       "       'Mayotte', 'Mexico', 'Micronesia (country)', 'Moldova', 'Monaco',\n",
       "       'Mongolia', 'Montenegro', 'Montserrat', 'Morocco', 'Mozambique',\n",
       "       'Myanmar', 'Namibia', 'Nauru', 'Nepal', 'Netherlands',\n",
       "       'New Caledonia', 'New Zealand', 'Nicaragua', 'Niger', 'Nigeria',\n",
       "       'Niue', 'North America', 'North Korea', 'North Macedonia',\n",
       "       'Northern Cyprus', 'Northern Ireland', 'Northern Mariana Islands',\n",
       "       'Norway', 'Oceania', 'Oman', 'Pakistan', 'Palau', 'Palestine',\n",
       "       'Panama', 'Papua New Guinea', 'Paraguay', 'Peru', 'Philippines',\n",
       "       'Pitcairn', 'Poland', 'Portugal', 'Puerto Rico', 'Qatar',\n",
       "       'Reunion', 'Romania', 'Russia', 'Rwanda', 'Saint Barthelemy',\n",
       "       'Saint Helena', 'Saint Kitts and Nevis', 'Saint Lucia',\n",
       "       'Saint Martin (French part)', 'Saint Pierre and Miquelon',\n",
       "       'Saint Vincent and the Grenadines', 'Samoa', 'San Marino',\n",
       "       'Sao Tome and Principe', 'Saudi Arabia', 'Scotland', 'Senegal',\n",
       "       'Serbia', 'Seychelles', 'Sierra Leone', 'Singapore',\n",
       "       'Sint Maarten (Dutch part)', 'Slovakia', 'Slovenia',\n",
       "       'Solomon Islands', 'Somalia', 'South Africa', 'South America',\n",
       "       'South Korea', 'South Sudan', 'Spain', 'Sri Lanka', 'Sudan',\n",
       "       'Suriname', 'Sweden', 'Switzerland', 'Syria', 'Taiwan',\n",
       "       'Tajikistan', 'Tanzania', 'Thailand', 'Timor', 'Togo', 'Tokelau',\n",
       "       'Tonga', 'Trinidad and Tobago', 'Tunisia', 'Turkey',\n",
       "       'Turkmenistan', 'Turks and Caicos Islands', 'Tuvalu', 'Uganda',\n",
       "       'Ukraine', 'United Arab Emirates', 'United Kingdom',\n",
       "       'United States', 'United States Virgin Islands',\n",
       "       'Upper middle income', 'Uruguay', 'Uzbekistan', 'Vanuatu',\n",
       "       'Vatican', 'Venezuela', 'Vietnam', 'Wales', 'Wallis and Futuna',\n",
       "       'Western Sahara', 'World', 'Yemen', 'Zambia', 'Zimbabwe'],\n",
       "      dtype=object)"
      ]
     },
     "execution_count": 58,
     "metadata": {},
     "output_type": "execute_result"
    }
   ],
   "source": [
    "# 국가확인\n",
    "locations.unique()"
   ]
  },
  {
   "cell_type": "code",
   "execution_count": 59,
   "id": "a102a20b-422e-4fd1-ae12-f1091c0c0725",
   "metadata": {},
   "outputs": [],
   "source": [
    "# 국가가 한국인 행만 추출\n",
    "kor_df = revised_df[revised_df.location == \"South Korea\"]\n",
    "# 국가가 미국인 행만 추출\n",
    "usa_df = revised_df[revised_df.location == \"United States\"]"
   ]
  },
  {
   "cell_type": "code",
   "execution_count": 60,
   "id": "33ec96b0-3f0f-4903-b3eb-c2f29a6afe3d",
   "metadata": {},
   "outputs": [],
   "source": [
    "# 한국 데이터에서 date 컬럼을 인덱스로 설정\n",
    "kor_date_index_df = kor_df.set_index(\"date\")\n",
    "# 미국 데이터에서 date 컬럼을 인덱스로 설정\n",
    "usa_date_index_df = usa_df.set_index(\"date\")"
   ]
  },
  {
   "cell_type": "code",
   "execution_count": 61,
   "id": "4b882881-df88-421f-b840-87158b5cda61",
   "metadata": {},
   "outputs": [],
   "source": [
    "# 한국 데이터에서 확진자수 컬럼만 추출\n",
    "kor_total_cases = kor_date_index_df[\"total_cases\"]\n",
    "# 미국 데이터에서 확진자수 컬럼만 추출\n",
    "usa_total_cases = usa_date_index_df[\"total_cases\"]"
   ]
  },
  {
   "cell_type": "code",
   "execution_count": 62,
   "id": "29a5e3c3-5dc4-48d5-82f4-684b1a9a5f2e",
   "metadata": {},
   "outputs": [
    {
     "data": {
      "text/plain": [
       "(51815808.0, 338289856.0)"
      ]
     },
     "execution_count": 62,
     "metadata": {},
     "output_type": "execute_result"
    }
   ],
   "source": [
    "# 2022-01-01 기준 한국 인구수 추출\n",
    "kor_population = kor_date_index_df['population']['2022-01-01']\n",
    "# 2022-01-01 기준 미국 인구수 추출\n",
    "usa_population = usa_date_index_df['population']['2022-01-01']\n",
    "kor_population, usa_population"
   ]
  },
  {
   "cell_type": "code",
   "execution_count": 63,
   "id": "c6b0cc90-e54b-4d5c-b3da-6d594e482299",
   "metadata": {},
   "outputs": [],
   "source": [
    "# 하와이 코로나 데이터에서 필요컬럼(날짜, 확진자수)만 추출\n",
    "filtered_hawaii_df = raw_hawaii_df[['submission_date', 'tot_cases']]"
   ]
  },
  {
   "cell_type": "code",
   "execution_count": 64,
   "id": "2808fcb6-d651-49a4-b1bf-958362cf5858",
   "metadata": {},
   "outputs": [],
   "source": [
    "# 날짜 기준으로 오름차순 정렬\n",
    "sorted_hawaii_df = filtered_hawaii_df.sort_values(by='submission_date')"
   ]
  },
  {
   "cell_type": "code",
   "execution_count": 65,
   "id": "7fddef9c-f16f-4fc7-afaf-0495eb48c8ef",
   "metadata": {},
   "outputs": [],
   "source": [
    "# 날짜의 데이터 타입을 datetime으로 변경하고 그 값을 date 컬럼에 저장\n",
    "sorted_hawaii_df['date'] = pd.to_datetime(filtered_hawaii_df['submission_date'])"
   ]
  },
  {
   "cell_type": "code",
   "execution_count": 66,
   "id": "505f3f21-80b6-4885-8517-f82a5af4a8f7",
   "metadata": {},
   "outputs": [],
   "source": [
    "# date 컬럼을 기준으로 오름차순 정렬\n",
    "sorted_hawaii_df.sort_values(by='date', inplace=True)"
   ]
  },
  {
   "cell_type": "code",
   "execution_count": 67,
   "id": "beedbdbc-d597-4b92-9d65-b0c87db1455d",
   "metadata": {},
   "outputs": [
    {
     "data": {
      "text/html": [
       "<div>\n",
       "<style scoped>\n",
       "    .dataframe tbody tr th:only-of-type {\n",
       "        vertical-align: middle;\n",
       "    }\n",
       "\n",
       "    .dataframe tbody tr th {\n",
       "        vertical-align: top;\n",
       "    }\n",
       "\n",
       "    .dataframe thead th {\n",
       "        text-align: right;\n",
       "    }\n",
       "</style>\n",
       "<table border=\"1\" class=\"dataframe\">\n",
       "  <thead>\n",
       "    <tr style=\"text-align: right;\">\n",
       "      <th></th>\n",
       "      <th>submission_date</th>\n",
       "      <th>tot_cases</th>\n",
       "    </tr>\n",
       "    <tr>\n",
       "      <th>date</th>\n",
       "      <th></th>\n",
       "      <th></th>\n",
       "    </tr>\n",
       "  </thead>\n",
       "  <tbody>\n",
       "    <tr>\n",
       "      <th>2020-01-22</th>\n",
       "      <td>01/22/2020</td>\n",
       "      <td>0</td>\n",
       "    </tr>\n",
       "    <tr>\n",
       "      <th>2020-01-23</th>\n",
       "      <td>01/23/2020</td>\n",
       "      <td>0</td>\n",
       "    </tr>\n",
       "    <tr>\n",
       "      <th>2020-01-24</th>\n",
       "      <td>01/24/2020</td>\n",
       "      <td>0</td>\n",
       "    </tr>\n",
       "    <tr>\n",
       "      <th>2020-01-25</th>\n",
       "      <td>01/25/2020</td>\n",
       "      <td>0</td>\n",
       "    </tr>\n",
       "    <tr>\n",
       "      <th>2020-01-26</th>\n",
       "      <td>01/26/2020</td>\n",
       "      <td>0</td>\n",
       "    </tr>\n",
       "    <tr>\n",
       "      <th>...</th>\n",
       "      <td>...</td>\n",
       "      <td>...</td>\n",
       "    </tr>\n",
       "    <tr>\n",
       "      <th>2022-07-17</th>\n",
       "      <td>07/17/2022</td>\n",
       "      <td>309561</td>\n",
       "    </tr>\n",
       "    <tr>\n",
       "      <th>2022-07-18</th>\n",
       "      <td>07/18/2022</td>\n",
       "      <td>309561</td>\n",
       "    </tr>\n",
       "    <tr>\n",
       "      <th>2022-07-19</th>\n",
       "      <td>07/19/2022</td>\n",
       "      <td>309561</td>\n",
       "    </tr>\n",
       "    <tr>\n",
       "      <th>2022-07-20</th>\n",
       "      <td>07/20/2022</td>\n",
       "      <td>313805</td>\n",
       "    </tr>\n",
       "    <tr>\n",
       "      <th>2022-07-21</th>\n",
       "      <td>07/21/2022</td>\n",
       "      <td>313805</td>\n",
       "    </tr>\n",
       "  </tbody>\n",
       "</table>\n",
       "<p>912 rows × 2 columns</p>\n",
       "</div>"
      ],
      "text/plain": [
       "           submission_date  tot_cases\n",
       "date                                 \n",
       "2020-01-22      01/22/2020          0\n",
       "2020-01-23      01/23/2020          0\n",
       "2020-01-24      01/24/2020          0\n",
       "2020-01-25      01/25/2020          0\n",
       "2020-01-26      01/26/2020          0\n",
       "...                    ...        ...\n",
       "2022-07-17      07/17/2022     309561\n",
       "2022-07-18      07/18/2022     309561\n",
       "2022-07-19      07/19/2022     309561\n",
       "2022-07-20      07/20/2022     313805\n",
       "2022-07-21      07/21/2022     313805\n",
       "\n",
       "[912 rows x 2 columns]"
      ]
     },
     "execution_count": 67,
     "metadata": {},
     "output_type": "execute_result"
    }
   ],
   "source": [
    "# date 컬럼을 인덱스로 설정 \n",
    "sorted_hawaii_df.set_index('date', inplace=True)\n",
    "sorted_hawaii_df"
   ]
  },
  {
   "cell_type": "code",
   "execution_count": 68,
   "id": "397a9e23-be06-4417-8b01-9c4d56d2c3b7",
   "metadata": {},
   "outputs": [],
   "source": [
    "# 하와이 코로나 데이터에서 확진자 수 컬럼만 추출\n",
    "hawaii_total_cases = sorted_hawaii_df['tot_cases']"
   ]
  },
  {
   "cell_type": "code",
   "execution_count": 69,
   "id": "3ed319c3-bae1-47be-891e-584a33de9973",
   "metadata": {},
   "outputs": [],
   "source": [
    "# 2022-01-01 기준 하와이 인구수 설정\n",
    "hawaii_population = 1433336"
   ]
  },
  {
   "cell_type": "code",
   "execution_count": 70,
   "id": "e4aada46-dd00-467f-a6be-26bec3b84f54",
   "metadata": {},
   "outputs": [
    {
     "data": {
      "text/plain": [
       "(0.028, 0.004)"
      ]
     },
     "execution_count": 70,
     "metadata": {},
     "output_type": "execute_result"
    }
   ],
   "source": [
    "# 하와이 인구수와 한국 인구수 비율 계산\n",
    "hawaii_kor_rate = round((hawaii_population / kor_population), 3)\n",
    "# 하와이 인구수와 미국 인구수 비율 계산\n",
    "hawaii_usa_rate = round((hawaii_population / usa_population), 3)\n",
    "hawaii_kor_rate, hawaii_usa_rate"
   ]
  },
  {
   "cell_type": "code",
   "execution_count": 71,
   "id": "1b0cc559-d888-4a14-a624-5b444f71febb",
   "metadata": {},
   "outputs": [],
   "source": [
    "# 한국과 미국 데이터의 인덱스 데이터 타입이 string이므로 하와이 데이터 인덱스의 데이터 타입도 string으로 변경\n",
    "hawaii_total_cases.index = hawaii_total_cases.index.astype('string')"
   ]
  },
  {
   "cell_type": "code",
   "execution_count": 72,
   "id": "4ccdb038-2760-4117-9c93-09a7436a0433",
   "metadata": {},
   "outputs": [
    {
     "data": {
      "text/html": [
       "<div>\n",
       "<style scoped>\n",
       "    .dataframe tbody tr th:only-of-type {\n",
       "        vertical-align: middle;\n",
       "    }\n",
       "\n",
       "    .dataframe tbody tr th {\n",
       "        vertical-align: top;\n",
       "    }\n",
       "\n",
       "    .dataframe thead th {\n",
       "        text-align: right;\n",
       "    }\n",
       "</style>\n",
       "<table border=\"1\" class=\"dataframe\">\n",
       "  <thead>\n",
       "    <tr style=\"text-align: right;\">\n",
       "      <th></th>\n",
       "      <th>KOR</th>\n",
       "      <th>USA</th>\n",
       "      <th>HAWAII</th>\n",
       "    </tr>\n",
       "    <tr>\n",
       "      <th>date</th>\n",
       "      <th></th>\n",
       "      <th></th>\n",
       "      <th></th>\n",
       "    </tr>\n",
       "  </thead>\n",
       "  <tbody>\n",
       "    <tr>\n",
       "      <th>2022-01-01</th>\n",
       "      <td>17126.676</td>\n",
       "      <td>207515.440</td>\n",
       "      <td>112283</td>\n",
       "    </tr>\n",
       "    <tr>\n",
       "      <th>2022-01-02</th>\n",
       "      <td>17981.656</td>\n",
       "      <td>218363.592</td>\n",
       "      <td>115400</td>\n",
       "    </tr>\n",
       "    <tr>\n",
       "      <th>2022-01-03</th>\n",
       "      <td>17981.656</td>\n",
       "      <td>218363.592</td>\n",
       "      <td>118330</td>\n",
       "    </tr>\n",
       "    <tr>\n",
       "      <th>2022-01-04</th>\n",
       "      <td>17981.656</td>\n",
       "      <td>218363.592</td>\n",
       "      <td>119830</td>\n",
       "    </tr>\n",
       "    <tr>\n",
       "      <th>2022-01-05</th>\n",
       "      <td>17981.656</td>\n",
       "      <td>218363.592</td>\n",
       "      <td>122385</td>\n",
       "    </tr>\n",
       "    <tr>\n",
       "      <th>...</th>\n",
       "      <td>...</td>\n",
       "      <td>...</td>\n",
       "      <td>...</td>\n",
       "    </tr>\n",
       "    <tr>\n",
       "      <th>2022-07-17</th>\n",
       "      <td>525329.196</td>\n",
       "      <td>353504.820</td>\n",
       "      <td>309561</td>\n",
       "    </tr>\n",
       "    <tr>\n",
       "      <th>2022-07-18</th>\n",
       "      <td>525329.196</td>\n",
       "      <td>353504.820</td>\n",
       "      <td>309561</td>\n",
       "    </tr>\n",
       "    <tr>\n",
       "      <th>2022-07-19</th>\n",
       "      <td>525329.196</td>\n",
       "      <td>353504.820</td>\n",
       "      <td>309561</td>\n",
       "    </tr>\n",
       "    <tr>\n",
       "      <th>2022-07-20</th>\n",
       "      <td>525329.196</td>\n",
       "      <td>353504.820</td>\n",
       "      <td>313805</td>\n",
       "    </tr>\n",
       "    <tr>\n",
       "      <th>2022-07-21</th>\n",
       "      <td>525329.196</td>\n",
       "      <td>353504.820</td>\n",
       "      <td>313805</td>\n",
       "    </tr>\n",
       "  </tbody>\n",
       "</table>\n",
       "<p>202 rows × 3 columns</p>\n",
       "</div>"
      ],
      "text/plain": [
       "                   KOR         USA  HAWAII\n",
       "date                                      \n",
       "2022-01-01   17126.676  207515.440  112283\n",
       "2022-01-02   17981.656  218363.592  115400\n",
       "2022-01-03   17981.656  218363.592  118330\n",
       "2022-01-04   17981.656  218363.592  119830\n",
       "2022-01-05   17981.656  218363.592  122385\n",
       "...                ...         ...     ...\n",
       "2022-07-17  525329.196  353504.820  309561\n",
       "2022-07-18  525329.196  353504.820  309561\n",
       "2022-07-19  525329.196  353504.820  309561\n",
       "2022-07-20  525329.196  353504.820  313805\n",
       "2022-07-21  525329.196  353504.820  313805\n",
       "\n",
       "[202 rows x 3 columns]"
      ]
     },
     "execution_count": 72,
     "metadata": {},
     "output_type": "execute_result"
    }
   ],
   "source": [
    "# 시각화용 데이터 생성\n",
    "final_hawaii_revised_df = pd.DataFrame({\n",
    "    'KOR': kor_total_cases * hawaii_kor_rate,     # 하와이와 한국의 인구수 차이를 없애기 위해 비율값을 곱함\n",
    "    'USA' : usa_total_cases * hawaii_usa_rate,    # 하와이와 미국의 인구수 차이를 없애기 위해 비율값을 곱함\n",
    "    'HAWAII' : hawaii_total_cases\n",
    "    }, index=kor_date_index_df['2022-01-01' : '2022-07-21'].index)    # 2022-01-01 부터 2022-07-21까지 범위 설정\n",
    "final_hawaii_revised_df"
   ]
  },
  {
   "cell_type": "code",
   "execution_count": 73,
   "id": "7322a985-41eb-4d41-b8bc-fc7fddb42161",
   "metadata": {},
   "outputs": [
    {
     "data": {
      "text/plain": [
       "<Axes: xlabel='date'>"
      ]
     },
     "execution_count": 73,
     "metadata": {},
     "output_type": "execute_result"
    },
    {
     "data": {
      "image/png": "[encoded data removed]",
      "text/plain": [
       "<Figure size 640x480 with 1 Axes>"
      ]
     },
     "metadata": {},
     "output_type": "display_data"
    }
   ],
   "source": [
    "# plot.line 함수로 데이터 시각화\n",
    "final_hawaii_revised_df.plot.line(rot=45)"
   ]
  },
  {
   "cell_type": "code",
   "execution_count": null,
   "id": "01c93e92-654e-4d09-acc6-bd502e3fc3fa",
   "metadata": {},
   "outputs": [],
   "source": []
  }
 ],
 "metadata": {
  "kernelspec": {
   "display_name": "Python 3 (ipykernel)",
   "language": "python",
   "name": "python3"
  },
  "language_info": {
   "codemirror_mode": {
    "name": "ipython",
    "version": 3
   },
   "file_extension": ".py",
   "mimetype": "text/x-python",
   "name": "python",
   "nbconvert_exporter": "python",
   "pygments_lexer": "ipython3",
   "version": "3.11.7"
  }
 },
 "nbformat": 4,
 "nbformat_minor": 5
}
